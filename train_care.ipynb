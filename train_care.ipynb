{
 "cells": [
  {
   "cell_type": "code",
   "execution_count": null,
   "metadata": {
    "colab": {
     "base_uri": "https://localhost:8080/",
     "height": 544
    },
    "colab_type": "code",
    "executionInfo": {
     "elapsed": 14005,
     "status": "ok",
     "timestamp": 1588084843726,
     "user": {
      "displayName": "Дмитрий Владимирович Нечаев",
      "photoUrl": "https://lh3.googleusercontent.com/a-/AOh14Ggb7dibpC8T1aWKJ7ma1FFTxgmAqiAObCj0JYgG=s64",
      "userId": "17987950995446608245"
     },
     "user_tz": -180
    },
    "id": "8MQ794n6d4fJ",
    "outputId": "0c9253dd-0192-472e-9cc7-dbf720c1b6e8"
   },
   "outputs": [],
   "source": [
    "%tensorflow_version 1.x\n",
    "import tensorflow as tf\n",
    "print(tf.__version__)"
   ]
  },
  {
   "cell_type": "code",
   "execution_count": null,
   "metadata": {
    "colab": {
     "base_uri": "https://localhost:8080/",
     "height": 306
    },
    "colab_type": "code",
    "executionInfo": {
     "elapsed": 22412,
     "status": "ok",
     "timestamp": 1588084852191,
     "user": {
      "displayName": "Дмитрий Владимирович Нечаев",
      "photoUrl": "https://lh3.googleusercontent.com/a-/AOh14Ggb7dibpC8T1aWKJ7ma1FFTxgmAqiAObCj0JYgG=s64",
      "userId": "17987950995446608245"
     },
     "user_tz": -180
    },
    "id": "WNh3XAL-RVaE",
    "outputId": "1c1ec249-e661-4348-f0ff-4092473784e0"
   },
   "outputs": [],
   "source": [
    "!nvidia-smi"
   ]
  },
  {
   "cell_type": "code",
   "execution_count": null,
   "metadata": {
    "colab": {
     "base_uri": "https://localhost:8080/",
     "height": 34
    },
    "colab_type": "code",
    "executionInfo": {
     "elapsed": 22736,
     "status": "ok",
     "timestamp": 1588084852539,
     "user": {
      "displayName": "Дмитрий Владимирович Нечаев",
      "photoUrl": "https://lh3.googleusercontent.com/a-/AOh14Ggb7dibpC8T1aWKJ7ma1FFTxgmAqiAObCj0JYgG=s64",
      "userId": "17987950995446608245"
     },
     "user_tz": -180
    },
    "id": "LrvtBeCJd1Ac",
    "outputId": "ea08b415-817d-4876-88a6-e566f0921810"
   },
   "outputs": [],
   "source": [
    "from __future__ import print_function, unicode_literals, absolute_import, division\n",
    "import numpy as np\n",
    "import matplotlib.pyplot as plt\n",
    "%matplotlib inline\n",
    "%config InlineBackend.figure_format = 'retina'\n",
    "\n",
    "from tifffile import imread\n",
    "from csbdeep.utils import axes_dict, plot_some, plot_history\n",
    "from csbdeep.io import load_training_data\n",
    "from csbdeep.models import Config, CARE\n",
    "from csbdeep.data import RawData, create_patches\n",
    "from keras import backend as K\n",
    "from keras.backend import relu"
   ]
  },
  {
   "cell_type": "code",
   "execution_count": null,
   "metadata": {},
   "outputs": [],
   "source": [
    "import os\n",
    "base_path = os.path.abspath('')"
   ]
  },
  {
   "cell_type": "code",
   "execution_count": null,
   "metadata": {
    "colab": {
     "base_uri": "https://localhost:8080/",
     "height": 34
    },
    "colab_type": "code",
    "executionInfo": {
     "elapsed": 35528,
     "status": "ok",
     "timestamp": 1588084865347,
     "user": {
      "displayName": "Дмитрий Владимирович Нечаев",
      "photoUrl": "https://lh3.googleusercontent.com/a-/AOh14Ggb7dibpC8T1aWKJ7ma1FFTxgmAqiAObCj0JYgG=s64",
      "userId": "17987950995446608245"
     },
     "user_tz": -180
    },
    "id": "uJFrOrDAeHDx",
    "outputId": "8e54a7d7-3734-4f07-ce01-6fc987ce797c"
   },
   "outputs": [],
   "source": [
    "(X,Y), _, axes = load_training_data(base_path + '/patches/my_training_data_east_64_2000_max.npz')\n",
    "(X_val,Y_val), _, _ = load_training_data(base_path + '/patches/my_training_data_west_64_2000_max.npz')\n",
    "\n",
    "factor = 800  #save for restoration\n",
    "clip = np.max(X) #save for restoration\n",
    "\n",
    "Y = Y * factor\n",
    "Y_val = Y_val * factor\n",
    "print(np.max(X), np.max(Y))"
   ]
  },
  {
   "cell_type": "code",
   "execution_count": null,
   "metadata": {
    "colab": {},
    "colab_type": "code",
    "id": "-yBFV2OLStRV"
   },
   "outputs": [],
   "source": [
    "#X, Y, X_val, Y_val = X.astype('float16'), Y.astype('float16'), X_val.astype('float16'), Y_val.astype('float16')"
   ]
  },
  {
   "cell_type": "code",
   "execution_count": null,
   "metadata": {
    "colab": {},
    "colab_type": "code",
    "id": "YusC8mTBfqdq"
   },
   "outputs": [],
   "source": [
    "#augment data\n",
    "def fliplr(X):\n",
    "  for x in X:\n",
    "    yield np.fliplr(x)\n",
    "\n",
    "def flipud(X):\n",
    "  for x in X:\n",
    "    yield np.flipud(x)\n",
    "\n",
    "def flip90(X):\n",
    "  for x in X:\n",
    "    yield np.rot90(x)\n",
    "\n",
    "def flip180(X):\n",
    "  for x in X:\n",
    "    yield np.rot90(x, 2)\n",
    "\n",
    "def flip270(X):\n",
    "  for x in X:\n",
    "    yield np.rot90(x, 3)\n",
    "\n",
    "def same(X):\n",
    "  for x in X:\n",
    "    yield x\n",
    "\n",
    "transforms_x = [fliplr(X), flipud(X), flip90(X), flip180(X), flip270(X), same(X)]\n",
    "transforms_y = [fliplr(Y), flipud(Y), flip90(Y), flip180(Y), flip270(Y), same(Y)]"
   ]
  },
  {
   "cell_type": "code",
   "execution_count": null,
   "metadata": {
    "colab": {
     "base_uri": "https://localhost:8080/",
     "height": 34
    },
    "colab_type": "code",
    "executionInfo": {
     "elapsed": 38928,
     "status": "ok",
     "timestamp": 1588084869452,
     "user": {
      "displayName": "Дмитрий Владимирович Нечаев",
      "photoUrl": "https://lh3.googleusercontent.com/a-/AOh14Ggb7dibpC8T1aWKJ7ma1FFTxgmAqiAObCj0JYgG=s64",
      "userId": "17987950995446608245"
     },
     "user_tz": -180
    },
    "id": "bytdfiAbf-h3",
    "outputId": "eaae82ef-d171-40b5-b031-4ccbc6cf6475"
   },
   "outputs": [],
   "source": [
    "X_transformed_l = [] \n",
    "Y_transformed_l = []\n",
    "\n",
    "for transform in transforms_x:\n",
    "  for x in transform:\n",
    "    X_transformed_l.append(x)\n",
    "\n",
    "X_transformed = np.array(X_transformed_l)\n",
    "X_transformed_l = None\n",
    "X = None\n",
    "\n",
    "for transform in transforms_y:\n",
    "  for y in transform:\n",
    "    Y_transformed_l.append(y)\n",
    "\n",
    "Y_transformed = np.array(Y_transformed_l)\n",
    "Y_transformed_l = None\n",
    "Y = None\n",
    "\n",
    "print(X_transformed.shape, Y_transformed.shape)"
   ]
  },
  {
   "cell_type": "code",
   "execution_count": null,
   "metadata": {
    "colab": {
     "base_uri": "https://localhost:8080/",
     "height": 295
    },
    "colab_type": "code",
    "executionInfo": {
     "elapsed": 36614,
     "status": "ok",
     "timestamp": 1588084869453,
     "user": {
      "displayName": "Дмитрий Владимирович Нечаев",
      "photoUrl": "https://lh3.googleusercontent.com/a-/AOh14Ggb7dibpC8T1aWKJ7ma1FFTxgmAqiAObCj0JYgG=s64",
      "userId": "17987950995446608245"
     },
     "user_tz": -180
    },
    "id": "ZH_PAlzKgMpi",
    "outputId": "073fb2a2-73c9-4883-e1e8-f8157aa6a322"
   },
   "outputs": [],
   "source": [
    "plt.figure(figsize=(12,5))\n",
    "plot_some(Y_transformed[5000:5005],X_transformed[5000:5005], pmax=99.5)"
   ]
  },
  {
   "cell_type": "code",
   "execution_count": null,
   "metadata": {
    "colab": {
     "base_uri": "https://localhost:8080/",
     "height": 34
    },
    "colab_type": "code",
    "executionInfo": {
     "elapsed": 36075,
     "status": "ok",
     "timestamp": 1588084869454,
     "user": {
      "displayName": "Дмитрий Владимирович Нечаев",
      "photoUrl": "https://lh3.googleusercontent.com/a-/AOh14Ggb7dibpC8T1aWKJ7ma1FFTxgmAqiAObCj0JYgG=s64",
      "userId": "17987950995446608245"
     },
     "user_tz": -180
    },
    "id": "qDVC0CWEIOqY",
    "outputId": "e03895c7-d690-4f23-a1d6-88c20231946e"
   },
   "outputs": [],
   "source": [
    "from sys import getsizeof\n",
    "getsizeof(Y_transformed) / (1024 * 1024)"
   ]
  },
  {
   "cell_type": "code",
   "execution_count": null,
   "metadata": {
    "colab": {
     "base_uri": "https://localhost:8080/",
     "height": 295
    },
    "colab_type": "code",
    "executionInfo": {
     "elapsed": 29832,
     "status": "ok",
     "timestamp": 1588084870165,
     "user": {
      "displayName": "Дмитрий Владимирович Нечаев",
      "photoUrl": "https://lh3.googleusercontent.com/a-/AOh14Ggb7dibpC8T1aWKJ7ma1FFTxgmAqiAObCj0JYgG=s64",
      "userId": "17987950995446608245"
     },
     "user_tz": -180
    },
    "id": "8AIJm0-KeLmV",
    "outputId": "3245c897-1bb7-4421-eeb3-3d4a02ab9395"
   },
   "outputs": [],
   "source": [
    "im_num = 20\n",
    "plt.figure(figsize=(12,5))\n",
    "plot_some(X_val[im_num:im_num+5],Y_val[im_num:im_num+5], pmax=99.5)"
   ]
  },
  {
   "cell_type": "code",
   "execution_count": null,
   "metadata": {
    "colab": {},
    "colab_type": "code",
    "id": "YZKn7G56NPkb"
   },
   "outputs": [],
   "source": [
    "from keras import backend as K\n",
    "from keras.layers import Activation\n",
    "from keras.losses import mean_squared_error\n",
    "\n",
    "def relu_advanced(x):\n",
    "    return K.relu(x, max_value=factor * 63.0)\n",
    "\n",
    "def internal_activation(x):\n",
    "  return K.relu(x, max_value=None)\n",
    "\n",
    "# def my_error(Y_true, Y_pred):\n",
    "#   power = 3/2\n",
    "#   return np.square(np.mean(np.power(Y_true, power) - np.power(Y_pred, power), axis=-1))\n",
    "\n",
    "from keras.utils.generic_utils import get_custom_objects\n",
    "get_custom_objects().update({'linear': Activation(relu_advanced)})\n",
    "get_custom_objects().update({'relu': Activation(internal_activation)})"
   ]
  },
  {
   "cell_type": "code",
   "execution_count": null,
   "metadata": {
    "colab": {
     "base_uri": "https://localhost:8080/",
     "height": 51
    },
    "colab_type": "code",
    "executionInfo": {
     "elapsed": 720,
     "status": "ok",
     "timestamp": 1588084883527,
     "user": {
      "displayName": "Дмитрий Владимирович Нечаев",
      "photoUrl": "https://lh3.googleusercontent.com/a-/AOh14Ggb7dibpC8T1aWKJ7ma1FFTxgmAqiAObCj0JYgG=s64",
      "userId": "17987950995446608245"
     },
     "user_tz": -180
    },
    "id": "XbJ5YpE5n0BN",
    "outputId": "f61ac63f-ca2f-47f4-e2b8-932d8c1aa45d"
   },
   "outputs": [],
   "source": [
    "get_custom_objects()"
   ]
  },
  {
   "cell_type": "code",
   "execution_count": null,
   "metadata": {
    "colab": {},
    "colab_type": "code",
    "id": "hVlUBJqV-Ot2"
   },
   "outputs": [],
   "source": [
    "model_number = 23 #save for restoration"
   ]
  },
  {
   "cell_type": "code",
   "execution_count": null,
   "metadata": {
    "colab": {
     "base_uri": "https://localhost:8080/",
     "height": 156
    },
    "colab_type": "code",
    "executionInfo": {
     "elapsed": 17063,
     "status": "ok",
     "timestamp": 1588004595914,
     "user": {
      "displayName": "Дмитрий Владимирович Нечаев",
      "photoUrl": "https://lh3.googleusercontent.com/a-/AOh14Ggb7dibpC8T1aWKJ7ma1FFTxgmAqiAObCj0JYgG=s64",
      "userId": "17987950995446608245"
     },
     "user_tz": -180
    },
    "id": "aSQPTYIxeN1Z",
    "outputId": "4b0d16bd-d735-445b-d8ae-985281f0c7d0"
   },
   "outputs": [],
   "source": [
    "config = Config(axes, unet_n_depth=5, train_epochs=5, train_steps_per_epoch=4000, train_batch_size=32, unet_last_activation='linear', unet_n_first=64, train_loss='mae')\n",
    "model = CARE(config, 'my_model_long_{}'.format(model_number), basedir=base_path + '/models')"
   ]
  },
  {
   "cell_type": "code",
   "execution_count": null,
   "metadata": {
    "colab": {
     "base_uri": "https://localhost:8080/",
     "height": 612
    },
    "colab_type": "code",
    "executionInfo": {
     "elapsed": 6064870,
     "status": "ok",
     "timestamp": 1588012558419,
     "user": {
      "displayName": "Дмитрий Владимирович Нечаев",
      "photoUrl": "https://lh3.googleusercontent.com/a-/AOh14Ggb7dibpC8T1aWKJ7ma1FFTxgmAqiAObCj0JYgG=s64",
      "userId": "17987950995446608245"
     },
     "user_tz": -180
    },
    "id": "LGhYWYZYeQU3",
    "outputId": "6b3ecb5b-b7b5-415c-e5d4-f99cacca1ae5"
   },
   "outputs": [],
   "source": [
    "history = model.train(X_transformed, Y_transformed, validation_data=(X_val,Y_val))"
   ]
  },
  {
   "cell_type": "code",
   "execution_count": null,
   "metadata": {
    "colab": {
     "base_uri": "https://localhost:8080/",
     "height": 34
    },
    "colab_type": "code",
    "executionInfo": {
     "elapsed": 28,
     "status": "ok",
     "timestamp": 1588012558421,
     "user": {
      "displayName": "Дмитрий Владимирович Нечаев",
      "photoUrl": "https://lh3.googleusercontent.com/a-/AOh14Ggb7dibpC8T1aWKJ7ma1FFTxgmAqiAObCj0JYgG=s64",
      "userId": "17987950995446608245"
     },
     "user_tz": -180
    },
    "id": "vhJPxMfuqBRM",
    "outputId": "b4f98a56-d205-4a29-9c55-a89a837be5c0"
   },
   "outputs": [],
   "source": [
    "Y_val.shape"
   ]
  },
  {
   "cell_type": "code",
   "execution_count": null,
   "metadata": {
    "colab": {
     "base_uri": "https://localhost:8080/",
     "height": 360
    },
    "colab_type": "code",
    "executionInfo": {
     "elapsed": 1306,
     "status": "ok",
     "timestamp": 1588012559718,
     "user": {
      "displayName": "Дмитрий Владимирович Нечаев",
      "photoUrl": "https://lh3.googleusercontent.com/a-/AOh14Ggb7dibpC8T1aWKJ7ma1FFTxgmAqiAObCj0JYgG=s64",
      "userId": "17987950995446608245"
     },
     "user_tz": -180
    },
    "id": "5yjpAfTAeUsX",
    "outputId": "1eeaeea4-93ff-4037-c45b-073a4d01a3bb"
   },
   "outputs": [],
   "source": [
    "print(sorted(list(history.history.keys())))\n",
    "plt.figure(figsize=(16,5))\n",
    "plot_history(history,['loss','val_loss'],['mse','val_mse']);"
   ]
  },
  {
   "cell_type": "code",
   "execution_count": null,
   "metadata": {
    "colab": {
     "base_uri": "https://localhost:8080/",
     "height": 462
    },
    "colab_type": "code",
    "executionInfo": {
     "elapsed": 2061,
     "status": "ok",
     "timestamp": 1588012561772,
     "user": {
      "displayName": "Дмитрий Владимирович Нечаев",
      "photoUrl": "https://lh3.googleusercontent.com/a-/AOh14Ggb7dibpC8T1aWKJ7ma1FFTxgmAqiAObCj0JYgG=s64",
      "userId": "17987950995446608245"
     },
     "user_tz": -180
    },
    "id": "aikEADqzeW7U",
    "outputId": "ecfb4782-9bd9-4413-a742-a691e62d0300"
   },
   "outputs": [],
   "source": [
    "im_num = 160\n",
    "plt.figure(figsize=(12,7))\n",
    "_P = model.keras_model.predict(X_val[im_num:im_num+5])\n",
    "plot_some(X_val[im_num:im_num+5],Y_val[im_num:im_num+5],_P,pmax=99.8)\n",
    "plt.suptitle('5 example validation patches\\n'      \n",
    "             'top row: input (source),  '          \n",
    "             'middle row: target (ground truth),  '\n",
    "             'bottom row: predicted from source');"
   ]
  },
  {
   "cell_type": "code",
   "execution_count": null,
   "metadata": {
    "colab": {},
    "colab_type": "code",
    "id": "pKpYZ-Qj_qvn"
   },
   "outputs": [],
   "source": [
    "import pandas as pd\n",
    "# if you want to save parameters needed for further restoration change save_params = True, warning if model is already in loaded DataFrame, its values will be overwritten\n",
    "path_to_params = base_path + '/Data/parameters_for_restoration.pkl'\n",
    "save_params = True\n",
    "if save_params:\n",
    "  parameters = pd.DataFrame(data = [[model_number, factor, clip]], columns = ['model_number', 'factor', 'clip'])\n",
    "  try:\n",
    "    old_params = pd.read_pickle(path_to_params)\n",
    "    if np.any(old_params.loc[:, 'model_number'] == model_number):\n",
    "      old_params.loc[old_params.loc[:, 'model_number'] == model_number] = parameters.loc[:,:]\n",
    "      old_params.to_pickle(path_to_params)\n",
    "    else:\n",
    "      parameters = pd.concat([old_params, parameters])\n",
    "      parameters.to_pickle(path_to_params)\n",
    "  except:\n",
    "    parameters.to_pickle(path_to_params)\n",
    "  print(pd.read_pickle(path_to_params))"
   ]
  },
  {
   "cell_type": "markdown",
   "metadata": {
    "colab_type": "text",
    "id": "HDyzOCmtRzGE"
   },
   "source": [
    "3 и 4 и 5, 6, 7, 8, 9, 10 успешны не трогать их, 5, 2 слоя натренен более правильно, 6 3 внутренних слоя, 200x200, 7 4 layers 192x192, 8 3 слоя 512х512, 9 4 слоя 512х512, 10 3 слоя 128\n",
    "\n",
    "\n",
    "\n"
   ]
  },
  {
   "cell_type": "markdown",
   "metadata": {
    "colab_type": "text",
    "id": "e2U0AZQJIYmt"
   },
   "source": [
    "### Итак, модель 12 сделана без нормализаций с кастомным релу слоем. 2 слоя, 128х128, восточное полушарие, batch size 32, n_first 32\n",
    "\n",
    "### Модель 13 сделана без нормализаций с кастомным релу слоем. 3 слоя, 128х128, восточное полушарие, batch size 32, n_first 32\n",
    "\n",
    "### Модель 16 сделана с ограничением 1000 на инпут с кастомным релу слоем аут 63, внутри без ограничений. 5 слоёв, 128х128, восточное полушарие, batch size 32, n_first 32\n",
    "\n",
    "### Модель 18 сделана с ограничением 1000 на инпут, кастомный релу аут 6300 Internal no limit, 3 слоя, 128х128, восточное полушарие, batch size 32, n_first 64, получилось збс, mse\n",
    "\n",
    "### Модель 19 сделана с ограничением 1000 на инпут, кастомный релу аут 6300 Internal no limit, 3 слоя, 128х128, восточное полушарие, batch size 32, n_first 64, получилось ещё более /збс, mae\n",
    "\n",
    "### Модель 20 сделана с ограничением 2000 на инпут, кастомный релу аут 12600 Internal no limit, 3 слоя, 128х128, восточное полушарие, batch size 32, n_first 64, получилось ещё более /збс, mae\n",
    "\n",
    "### Модель 21 сделана с ограничением 2000 на инпут, кастомный релу аут 25200 Internal no limit, 4 слоя, 128х128, восточное полушарие, batch size 32, n_first 64, получилось ещё более /збс, mae\n",
    "\n",
    "### Модель 22 сделана с ограничением 2000 на инпут, кастомный релу аут 50400 Internal no limit, 5 слёв, 128х128, восточное полушарие, batch size 32, n_first 64, получилось ещё более /збс, mae"
   ]
  }
 ],
 "metadata": {
  "accelerator": "GPU",
  "colab": {
   "authorship_tag": "ABX9TyOQVm/F75tCyGjlC8pG4i9Y",
   "collapsed_sections": [],
   "machine_shape": "hm",
   "mount_file_id": "1lphwgXSCBfjBhWwvJVCptbNjx74LbbLf",
   "name": "train_care.ipynb",
   "provenance": []
  },
  "kernelspec": {
   "display_name": "Python 3",
   "language": "python",
   "name": "python3"
  },
  "language_info": {
   "codemirror_mode": {
    "name": "ipython",
    "version": 3
   },
   "file_extension": ".py",
   "mimetype": "text/x-python",
   "name": "python",
   "nbconvert_exporter": "python",
   "pygments_lexer": "ipython3",
   "version": "3.7.7"
  }
 },
 "nbformat": 4,
 "nbformat_minor": 1
}