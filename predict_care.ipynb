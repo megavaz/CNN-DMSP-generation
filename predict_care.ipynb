{
 "cells": [
  {
   "cell_type": "code",
   "execution_count": null,
   "metadata": {
    "colab": {
     "base_uri": "https://localhost:8080/",
     "height": 578
    },
    "colab_type": "code",
    "executionInfo": {
     "elapsed": 18227,
     "status": "ok",
     "timestamp": 1588147484838,
     "user": {
      "displayName": "Дмитрий Владимирович Нечаев",
      "photoUrl": "https://lh3.googleusercontent.com/a-/AOh14Ggb7dibpC8T1aWKJ7ma1FFTxgmAqiAObCj0JYgG=s64",
      "userId": "17987950995446608245"
     },
     "user_tz": -180
    },
    "id": "9rHyRD-89g_d",
    "outputId": "f04dd926-d086-477f-d6b2-9ba0c7487a06"
   },
   "outputs": [],
   "source": [
    "%tensorflow_version 1.x\n",
    "import tensorflow as tf\n",
    "print(tf.__version__)\n",
    "import spectral.io.envi as envi\n",
    "from spectral import *"
   ]
  },
  {
   "cell_type": "code",
   "execution_count": null,
   "metadata": {
    "colab": {
     "base_uri": "https://localhost:8080/",
     "height": 34
    },
    "colab_type": "code",
    "executionInfo": {
     "elapsed": 18423,
     "status": "ok",
     "timestamp": 1588147485066,
     "user": {
      "displayName": "Дмитрий Владимирович Нечаев",
      "photoUrl": "https://lh3.googleusercontent.com/a-/AOh14Ggb7dibpC8T1aWKJ7ma1FFTxgmAqiAObCj0JYgG=s64",
      "userId": "17987950995446608245"
     },
     "user_tz": -180
    },
    "id": "ygRviNVe9tuo",
    "outputId": "6924c057-bd8c-4b6a-c50a-e4a0bfa80aaa"
   },
   "outputs": [],
   "source": [
    "from __future__ import print_function, unicode_literals, absolute_import, division\n",
    "import numpy as np\n",
    "import matplotlib.pyplot as plt\n",
    "%matplotlib inline\n",
    "%config InlineBackend.figure_format = 'retina'\n",
    "\n",
    "from csbdeep.utils import plot_some\n",
    "from csbdeep.io import load_training_data\n",
    "from csbdeep.models import CARE"
   ]
  },
  {
   "cell_type": "markdown",
   "metadata": {
    "colab_type": "text",
    "id": "xPeuJQV4XQsu"
   },
   "source": [
    "You can use function below to load parameters for image prediction.\n",
    "You need to use model 23\n",
    "\n"
   ]
  },
  {
   "cell_type": "code",
   "execution_count": null,
   "metadata": {
    "colab": {},
    "colab_type": "code",
    "id": "kgpgJBeqSw0i"
   },
   "outputs": [],
   "source": [
    "import pandas as pd\n",
    "def load_parameters(model_number, path_to_params):\n",
    "  try:\n",
    "    params = pd.read_pickle(path_to_params)\n",
    "  except:\n",
    "    print('File not found')\n",
    "  if np.any(params.loc[:, 'model_number'] == model_number):\n",
    "    factor = float(params.loc[params.loc[:, 'model_number'] == model_number]['factor'])\n",
    "    clip = int(params.loc[params.loc[:, 'model_number'] == model_number]['clip'])\n",
    "    return factor, clip\n",
    "  print('No parameters found')\n"
   ]
  },
  {
   "cell_type": "code",
   "execution_count": null,
   "metadata": {
    "colab": {
     "base_uri": "https://localhost:8080/",
     "height": 34
    },
    "colab_type": "code",
    "executionInfo": {
     "elapsed": 19480,
     "status": "ok",
     "timestamp": 1588147486145,
     "user": {
      "displayName": "Дмитрий Владимирович Нечаев",
      "photoUrl": "https://lh3.googleusercontent.com/a-/AOh14Ggb7dibpC8T1aWKJ7ma1FFTxgmAqiAObCj0JYgG=s64",
      "userId": "17987950995446608245"
     },
     "user_tz": -180
    },
    "id": "5ZCdLAxbWFhm",
    "outputId": "225d267c-da1a-4b96-80d1-2bb0e361f864"
   },
   "outputs": [],
   "source": [
    "model_number = 23"
   ]
  },
  {
   "cell_type": "code",
   "execution_count": null,
   "outputs": [],
   "source": [
    "import os\n",
    "base_path = os.path.abspath('')\n",
    "path_to_params = base_path + '/Data/parameters_for_restoration.pkl'\n",
    "factor, clip = load_parameters(model_number, path_to_params)\n",
    "print(factor, clip)"
   ],
   "metadata": {
    "collapsed": false,
    "pycharm": {
     "name": "#%%\n"
    }
   }
  },
  {
   "cell_type": "code",
   "execution_count": null,
   "metadata": {
    "colab": {},
    "colab_type": "code",
    "id": "XY9ovf2oncB0"
   },
   "outputs": [],
   "source": [
    "from keras import backend as K\n",
    "from keras.layers import Activation\n",
    "def relu_advanced(x):\n",
    "    return K.relu(x, max_value=63 * factor)\n",
    "\n",
    "def internal_activation(x):\n",
    "  return K.relu(x, max_value=None)\n",
    "\n",
    "from keras.utils.generic_utils import get_custom_objects\n",
    "get_custom_objects().update({'linear': Activation(relu_advanced)})\n",
    "get_custom_objects().update({'relu': Activation(internal_activation)})"
   ]
  },
  {
   "cell_type": "code",
   "execution_count": null,
   "metadata": {
    "colab": {},
    "colab_type": "code",
    "id": "wsWwdvnI9z1P"
   },
   "outputs": [],
   "source": [
    "img = envi.open(base_path + '/Data/SVDNB_npp_20160101-20161231_global_vcm-ntl.avg_rade9_resampled.hdr', base_path + '/Data/SVDNB_npp_20160101-20161231_global_vcm-ntl.avg_rade9_resampled')\n",
    "img_new = img.load()\n",
    "img_new = np.clip(img_new, 0, clip)"
   ]
  },
  {
   "cell_type": "code",
   "execution_count": null,
   "metadata": {
    "colab": {
     "base_uri": "https://localhost:8080/",
     "height": 34
    },
    "colab_type": "code",
    "executionInfo": {
     "elapsed": 75462,
     "status": "ok",
     "timestamp": 1588147542226,
     "user": {
      "displayName": "Дмитрий Владимирович Нечаев",
      "photoUrl": "https://lh3.googleusercontent.com/a-/AOh14Ggb7dibpC8T1aWKJ7ma1FFTxgmAqiAObCj0JYgG=s64",
      "userId": "17987950995446608245"
     },
     "user_tz": -180
    },
    "id": "27KsCd4X-Ew5",
    "outputId": "79b1b798-ced5-42ab-e43e-0e3e957dfae6"
   },
   "outputs": [],
   "source": [
    "img_new = img_new.reshape(1, 16801, 43201)\n",
    "img_new.shape"
   ]
  },
  {
   "cell_type": "code",
   "execution_count": null,
   "metadata": {
    "colab": {
     "base_uri": "https://localhost:8080/",
     "height": 139
    },
    "colab_type": "code",
    "executionInfo": {
     "elapsed": 102051,
     "status": "ok",
     "timestamp": 1588147568856,
     "user": {
      "displayName": "Дмитрий Владимирович Нечаев",
      "photoUrl": "https://lh3.googleusercontent.com/a-/AOh14Ggb7dibpC8T1aWKJ7ma1FFTxgmAqiAObCj0JYgG=s64",
      "userId": "17987950995446608245"
     },
     "user_tz": -180
    },
    "id": "ptiiRPkK-hwj",
    "outputId": "1ba909b6-6c66-474e-aadf-fafce1b08730"
   },
   "outputs": [],
   "source": [
    "model = CARE(config=None, name='my_model_long_{}'.format(model_number), basedir=base_path + '/models')\n",
    "axes = 'CYX'"
   ]
  },
  {
   "cell_type": "code",
   "execution_count": null,
   "metadata": {
    "colab": {
     "base_uri": "https://localhost:8080/",
     "height": 68
    },
    "colab_type": "code",
    "executionInfo": {
     "elapsed": 978643,
     "status": "ok",
     "timestamp": 1588148445475,
     "user": {
      "displayName": "Дмитрий Владимирович Нечаев",
      "photoUrl": "https://lh3.googleusercontent.com/a-/AOh14Ggb7dibpC8T1aWKJ7ma1FFTxgmAqiAObCj0JYgG=s64",
      "userId": "17987950995446608245"
     },
     "user_tz": -180
    },
    "id": "zeID-jao--I1",
    "outputId": "9ac8a08a-c14b-4937-8179-4ec6884d9e59"
   },
   "outputs": [],
   "source": [
    "restored = model.predict(img_new, axes, n_tiles=(1, 15, 15), normalizer=None)"
   ]
  },
  {
   "cell_type": "code",
   "execution_count": null,
   "metadata": {
    "colab": {
     "base_uri": "https://localhost:8080/",
     "height": 34
    },
    "colab_type": "code",
    "executionInfo": {
     "elapsed": 979461,
     "status": "ok",
     "timestamp": 1588148446303,
     "user": {
      "displayName": "Дмитрий Владимирович Нечаев",
      "photoUrl": "https://lh3.googleusercontent.com/a-/AOh14Ggb7dibpC8T1aWKJ7ma1FFTxgmAqiAObCj0JYgG=s64",
      "userId": "17987950995446608245"
     },
     "user_tz": -180
    },
    "id": "xmD_5H8QAEeF",
    "outputId": "bbb03e6c-5f46-49d9-cbfc-cb56853ce9ff"
   },
   "outputs": [],
   "source": [
    "print(np.max(restored), np.min(restored))"
   ]
  },
  {
   "cell_type": "code",
   "execution_count": null,
   "metadata": {
    "colab": {},
    "colab_type": "code",
    "id": "gD51pMxdSuBU"
   },
   "outputs": [],
   "source": [
    "from skimage.io import imsave\n",
    "from skimage.io import call_plugin, use_plugin, find_available_plugins"
   ]
  },
  {
   "cell_type": "code",
   "execution_count": null,
   "metadata": {
    "colab": {
     "base_uri": "https://localhost:8080/",
     "height": 51
    },
    "colab_type": "code",
    "executionInfo": {
     "elapsed": 979687,
     "status": "ok",
     "timestamp": 1588148446546,
     "user": {
      "displayName": "Дмитрий Владимирович Нечаев",
      "photoUrl": "https://lh3.googleusercontent.com/a-/AOh14Ggb7dibpC8T1aWKJ7ma1FFTxgmAqiAObCj0JYgG=s64",
      "userId": "17987950995446608245"
     },
     "user_tz": -180
    },
    "id": "ZxvC43GbT16a",
    "outputId": "8f8fb5f0-63eb-47b0-b939-41c4d1492c83"
   },
   "outputs": [],
   "source": [
    "find_available_plugins(True)"
   ]
  },
  {
   "cell_type": "code",
   "execution_count": null,
   "metadata": {
    "colab": {},
    "colab_type": "code",
    "id": "Rv8nBEB2JOoh"
   },
   "outputs": [],
   "source": [
    "restored_processed = restored.reshape(16801, 43201)\n",
    "restored_processed = restored_processed / factor\n",
    "restored = None"
   ]
  },
  {
   "cell_type": "code",
   "execution_count": null,
   "metadata": {
    "colab": {
     "base_uri": "https://localhost:8080/",
     "height": 34
    },
    "colab_type": "code",
    "executionInfo": {
     "elapsed": 981983,
     "status": "ok",
     "timestamp": 1588148448853,
     "user": {
      "displayName": "Дмитрий Владимирович Нечаев",
      "photoUrl": "https://lh3.googleusercontent.com/a-/AOh14Ggb7dibpC8T1aWKJ7ma1FFTxgmAqiAObCj0JYgG=s64",
      "userId": "17987950995446608245"
     },
     "user_tz": -180
    },
    "id": "pSj_F6v0Sb2W",
    "outputId": "b2706e55-70fb-46df-afd8-ae8277096baa"
   },
   "outputs": [],
   "source": [
    "np.around(restored_processed, 0, out=restored_processed)\n",
    "restored_processed = restored_processed.astype('float32', copy=False)\n",
    "np.max(restored_processed)"
   ]
  },
  {
   "cell_type": "code",
   "execution_count": null,
   "metadata": {
    "colab": {},
    "colab_type": "code",
    "id": "DqWE8yjgVPyH"
   },
   "outputs": [],
   "source": [
    "use_plugin('imageio')"
   ]
  },
  {
   "cell_type": "code",
   "execution_count": null,
   "metadata": {
    "colab": {
     "base_uri": "https://localhost:8080/",
     "height": 34
    },
    "colab_type": "code",
    "executionInfo": {
     "elapsed": 1138226,
     "status": "ok",
     "timestamp": 1588148605108,
     "user": {
      "displayName": "Дмитрий Владимирович Нечаев",
      "photoUrl": "https://lh3.googleusercontent.com/a-/AOh14Ggb7dibpC8T1aWKJ7ma1FFTxgmAqiAObCj0JYgG=s64",
      "userId": "17987950995446608245"
     },
     "user_tz": -180
    },
    "id": "eDgXUHHcVg4o",
    "outputId": "6fc578c9-6a26-4add-b0b6-4c47b513ea5d"
   },
   "outputs": [],
   "source": [
    "imsave(base_path + '/Predictions/pred{}.jpg'.format(model_number), restored_processed, quality=75)\n",
    "np.savez(base_path + '/Predictions/pred{}.npz'.format(model_number), restored_processed)"
   ]
  },
  {
   "cell_type": "code",
   "execution_count": null,
   "metadata": {
    "colab": {
     "base_uri": "https://localhost:8080/",
     "height": 387
    },
    "colab_type": "code",
    "executionInfo": {
     "elapsed": 1139080,
     "status": "ok",
     "timestamp": 1588148605977,
     "user": {
      "displayName": "Дмитрий Владимирович Нечаев",
      "photoUrl": "https://lh3.googleusercontent.com/a-/AOh14Ggb7dibpC8T1aWKJ7ma1FFTxgmAqiAObCj0JYgG=s64",
      "userId": "17987950995446608245"
     },
     "user_tz": -180
    },
    "id": "K3s7ZhGkaZg7",
    "outputId": "14237578-6b6e-4a24-d3dc-6dbe5344c091"
   },
   "outputs": [],
   "source": [
    "i = 2410\n",
    "j = 26256\n",
    "imshow(restored_processed[i-210:i, j-300: j])"
   ]
  }
 ],
 "metadata": {
  "accelerator": "GPU",
  "colab": {
   "authorship_tag": "ABX9TyPvL2T2eKqarrXXAj/cFJ63",
   "machine_shape": "hm",
   "mount_file_id": "1z7-x5tjvG3IE0QuHSfrg8d0Ptt2CPhZH",
   "name": "predict_care.ipynb",
   "provenance": []
  },
  "kernelspec": {
   "display_name": "Python 3",
   "language": "python",
   "name": "python3"
  },
  "language_info": {
   "codemirror_mode": {
    "name": "ipython",
    "version": 3
   },
   "file_extension": ".py",
   "mimetype": "text/x-python",
   "name": "python",
   "nbconvert_exporter": "python",
   "pygments_lexer": "ipython3",
   "version": "3.7.7"
  }
 },
 "nbformat": 4,
 "nbformat_minor": 1
}