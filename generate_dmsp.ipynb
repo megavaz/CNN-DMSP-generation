{
  "nbformat": 4,
  "nbformat_minor": 0,
  "metadata": {
    "colab": {
      "name": "generate_dmsp.ipynb",
      "provenance": []
    },
    "kernelspec": {
      "name": "python3",
      "display_name": "Python 3"
    },
    "language_info": {
      "name": "python"
    }
  },
  "cells": [
    {
      "cell_type": "code",
      "metadata": {
        "id": "KxENBRVN1NUv"
      },
      "source": [
        "!nvidia-smi"
      ],
      "execution_count": null,
      "outputs": []
    },
    {
      "cell_type": "code",
      "metadata": {
        "id": "pNdcQAFJ1MO5"
      },
      "source": [
        "from google.colab import drive\n",
        "drive.mount('/content/drive')"
      ],
      "execution_count": null,
      "outputs": []
    },
    {
      "cell_type": "code",
      "metadata": {
        "id": "-QglI2Mo1UCx"
      },
      "source": [
        "!pip install spectral\n",
        "!pip install -q -U tensorflow-addons\n",
        "!pip install scikit-image --upgrade"
      ],
      "execution_count": null,
      "outputs": []
    },
    {
      "cell_type": "code",
      "metadata": {
        "id": "MUjfUXmo1dII"
      },
      "source": [
        "import spectral.io.envi as envi\n",
        "import numpy as np\n",
        "from tqdm import tqdm\n",
        "import tensorflow as tf\n",
        "import numpy as np\n",
        "from tifffile import imshow, imread, imsave, create_output\n",
        "import tensorflow_addons as tfa\n",
        "from skimage import filters"
      ],
      "execution_count": null,
      "outputs": []
    },
    {
      "cell_type": "code",
      "metadata": {
        "id": "X_MWbsim1xzr"
      },
      "source": [
        "from skimage.util import view_as_windows, view_as_blocks"
      ],
      "execution_count": null,
      "outputs": []
    },
    {
      "cell_type": "code",
      "metadata": {
        "id": "akh2KU7-1kQp"
      },
      "source": [
        "model = tf.keras.models.load_model('/content/drive/MyDrive/Diploma/my_models/model_MAE_depth_4_per_level_3.h5')\n",
        "model.compile()"
      ],
      "execution_count": null,
      "outputs": []
    },
    {
      "cell_type": "code",
      "metadata": {
        "id": "HYqMempW15Il"
      },
      "source": [
        "# img3 = envi.open('/content/drive/MyDrive/Diploma/data_new/VNL_v2_npp_2015_global_vcmslcfg_c202102150000.average_masked_resampled.hdr', '/content/drive/MyDrive/Diploma/data_new/VNL_v2_npp_2015_global_vcmslcfg_c202102150000.average_masked_resampled')\n",
        "# img3 = envi.open('/content/drive/MyDrive/Diploma/data_new/VNL_v2_npp_2016_global_vcmslcfg_c202102150000.average_masked_resampled.hdr', '/content/drive/MyDrive/Diploma/data_new/VNL_v2_npp_2016_global_vcmslcfg_c202102150000.average_masked_resampled')\n",
        "# x_test = img3.load()\n",
        "# clip_value = 2000\n",
        "# x_test = np.clip(x_test, 0, clip_value)\n",
        "# x_test /= x_test.max()\n",
        "# pred_num = 3"
      ],
      "execution_count": null,
      "outputs": []
    },
    {
      "cell_type": "code",
      "metadata": {
        "id": "9FlCCupNOBli"
      },
      "source": [
        "import gzip\n",
        "pred_num = 2019\n",
        "x_test = imread(gzip.open('/content/drive/MyDrive/Diploma/preds_for_years/data/VNL_v2_npp_2019_global_vcmslcfg_c202102150000.average_masked_resampled.tif.gz', 'rb'))\n",
        "clip_value = 2000\n",
        "x_test = np.clip(x_test, 0, clip_value)\n",
        "x_test /= x_test.max()"
      ],
      "execution_count": null,
      "outputs": []
    },
    {
      "cell_type": "code",
      "metadata": {
        "id": "viA0HMisPOyo"
      },
      "source": [
        "x_test.max()"
      ],
      "execution_count": null,
      "outputs": []
    },
    {
      "cell_type": "code",
      "metadata": {
        "id": "-Ttw9WGY12cZ"
      },
      "source": [
        "from sys import getsizeof\n",
        "def split_and_predict(x, split=(8, 8, 1), overlap=1/3, cutoff=5):\n",
        "  def gen_restore_data(x_train_windows):\n",
        "    def gen():    \n",
        "      for i in range(x_train_windows.shape[0]):\n",
        "        for j in range(x_train_windows.shape[1]):\n",
        "          cnt = np.count_nonzero(x_train_windows[i, j, 0] > 0)\n",
        "          if cnt != 0:\n",
        "            yield x_train_windows[i, j, 0]\n",
        "    return gen\n",
        "\n",
        "  def get_window(a):\n",
        "    a = np.squeeze(a)\n",
        "    std = np.max(a.shape) / 4\n",
        "    center = (np.array((a.shape[0], a.shape[1]))[np.newaxis, ...] - 1) / 2\n",
        "    a = np.zeros_like(a)\n",
        "    ind = np.array(np.where(a == 0))\n",
        "    ind = np.moveaxis(ind, 0, -1).reshape((*a.shape, 2))\n",
        "    a = np.linalg.norm(ind - center, ord=2, axis=-1)\n",
        "    a = np.exp(-(np.power(a, 2) / (2 * std ** 2))) / (std * (2 * np.pi) ** (1 / 2))\n",
        "    return a / a.max()\n",
        "\n",
        "\n",
        "  def perform_transfer(x, patch_size=256, step=64, cutoff=0):\n",
        "    orig_shape=x.shape\n",
        "    pad_values = (patch_size - 1 + step, patch_size - 1 + step)\n",
        "    x = np.pad(x, ((0, pad_values[0]), (0, pad_values[1]), (0,0)))\n",
        "    counter = np.zeros_like(x)\n",
        "    y = np.zeros_like(x)\n",
        "    y_coef = np.zeros_like(x)\n",
        "    window_coef = np.full((patch_size, patch_size, 1), 10E-5)\n",
        "    window_coef[..., 0] = get_window(window_coef[...])\n",
        "    x_train_windows = view_as_windows(x, (patch_size, patch_size, 1), step=step)\n",
        "\n",
        "    dataset = tf.data.Dataset.from_generator(\n",
        "        gen_restore_data(x_train_windows),\n",
        "        output_signature=tf.TensorSpec(shape=(patch_size, patch_size, 1)))\n",
        "    dataset = dataset.batch(24)\n",
        "    try:\n",
        "      res = model.predict(dataset, verbose=0)\n",
        "    except ValueError:\n",
        "      return y[:orig_shape[0], :orig_shape[1]]\n",
        "    counter = 0\n",
        "    y_windows = view_as_windows(y, (patch_size, patch_size, 1), step=step)\n",
        "    y_coef_windows = view_as_windows(y_coef, (patch_size, patch_size, 1), step=step)\n",
        "    for i in range(y_windows.shape[0]):\n",
        "      for j in range(y_windows.shape[1]):\n",
        "        cnt = np.count_nonzero(x_train_windows[i, j, 0] > 0)\n",
        "        if cnt != 0:\n",
        "          y_windows[i, j, 0] += res[counter] * window_coef\n",
        "          counter += 1\n",
        "        y_coef_windows[i, j, 0] += window_coef\n",
        "    y = y / (y_coef + 10E-5)\n",
        "    return y[:orig_shape[0], :orig_shape[1]]\n",
        "\n",
        "  step = np.array(x.shape) // np.array(split)\n",
        "  overlap = step * overlap\n",
        "  overlap = overlap.astype(int)\n",
        "  step = step.astype(int)\n",
        "  orig_shape=x.shape\n",
        "  pad_values = (step[0] + overlap[0], step[1] + overlap[1])\n",
        "  x = np.pad(x, ((cutoff, pad_values[0]), (cutoff, pad_values[1]), (0,0)))\n",
        "  y = np.zeros_like(x)\n",
        "  coefs = np.zeros_like(x)\n",
        "  i_s_l = [i * step[0] for i in range(split[0] + 2)]\n",
        "  j_s_l = [i * step[1] for i in range(split[1] + 2)]\n",
        "  i_s_r = [i + overlap[0] for i in i_s_l[1:]]\n",
        "  j_s_r = [i + overlap[1] for i in j_s_l[1:]]\n",
        "  window_coef = get_window(np.zeros_like(x[:i_s_r[0], :j_s_r[0]]))[..., np.newaxis]\n",
        "  window_aux = np.zeros_like(window_coef)\n",
        "  window_aux[cutoff:-cutoff, cutoff:-cutoff] = 1\n",
        "  np.multiply(window_coef, window_aux, out=window_coef)\n",
        "  window_aux = None\n",
        "  for i_l, i_r in tqdm(zip(i_s_l[:-1], i_s_r), total=len(i_s_r)):\n",
        "    for j_l, j_r in zip(j_s_l[:-1], j_s_r):\n",
        "      temp = perform_transfer(x[i_l: i_r, j_l: j_r])\n",
        "      np.multiply(temp, window_coef, out=temp)\n",
        "      np.add(y[i_l: i_r, j_l: j_r], temp, out=y[i_l: i_r, j_l: j_r])\n",
        "      np.add(coefs[i_l: i_r, j_l: j_r], window_coef, coefs[i_l: i_r, j_l: j_r])\n",
        "  np.add(coefs, 10E-5, out=coefs)\n",
        "  np.divide(y, coefs, out=y)\n",
        "  return y[cutoff: orig_shape[0] + cutoff, cutoff: orig_shape[1] + cutoff]"
      ],
      "execution_count": null,
      "outputs": []
    },
    {
      "cell_type": "code",
      "metadata": {
        "id": "hYC273PeRoRq"
      },
      "source": [
        "x_test = x_test[..., np.newaxis]"
      ],
      "execution_count": null,
      "outputs": []
    },
    {
      "cell_type": "code",
      "metadata": {
        "id": "a2O3zFY-14I7"
      },
      "source": [
        "res = split_and_predict(x_test)\n",
        "res = res * 63\n",
        "res = np.around(res, 0)"
      ],
      "execution_count": null,
      "outputs": []
    },
    {
      "cell_type": "code",
      "metadata": {
        "id": "vyFrzmIt2WXg"
      },
      "source": [
        "y = 5983\n",
        "x = 8621\t\n",
        "imshow(res[y-256:y, x-256:x])"
      ],
      "execution_count": null,
      "outputs": []
    },
    {
      "cell_type": "code",
      "metadata": {
        "id": "JFyGnNKPQUMn"
      },
      "source": [
        "imshow(res)"
      ],
      "execution_count": null,
      "outputs": []
    },
    {
      "cell_type": "code",
      "metadata": {
        "id": "yK-jySE22Yab"
      },
      "source": [
        "imsave('/content/drive/MyDrive/Diploma/preds_for_years/preds/pred_{}.tiff'.format(pred_num), res[:,:,0])\n",
        "# np.savez('/content/drive/MyDrive/Diploma/Predictions/pred{}.npz'.format(pred_num), res[:,:,0])"
      ],
      "execution_count": null,
      "outputs": []
    }
  ]
}