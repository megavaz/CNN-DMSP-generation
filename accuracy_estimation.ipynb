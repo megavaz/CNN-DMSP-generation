{
 "cells": [
  {
   "cell_type": "code",
   "execution_count": null,
   "metadata": {
    "colab": {
     "base_uri": "https://localhost:8080/",
     "height": 119
    },
    "colab_type": "code",
    "executionInfo": {
     "elapsed": 7802,
     "status": "ok",
     "timestamp": 1588156922053,
     "user": {
      "displayName": "Дмитрий Владимирович Нечаев",
      "photoUrl": "https://lh3.googleusercontent.com/a-/AOh14Ggb7dibpC8T1aWKJ7ma1FFTxgmAqiAObCj0JYgG=s64",
      "userId": "17987950995446608245"
     },
     "user_tz": -180
    },
    "id": "MlSS2pBw-EV0",
    "outputId": "28f9dfed-5a6c-46df-da6b-c503e13ea38c"
   },
   "outputs": [],
   "source": [
    "!pip install spectral\n",
    "import spectral.io.envi as envi\n",
    "from spectral import *"
   ]
  },
  {
   "cell_type": "code",
   "execution_count": null,
   "metadata": {
    "colab": {},
    "colab_type": "code",
    "id": "P3MLsfBU-Pky"
   },
   "outputs": [],
   "source": [
    "from __future__ import print_function, unicode_literals, absolute_import, division\n",
    "import numpy as np\n",
    "import matplotlib.pyplot as plt\n",
    "%matplotlib inline\n",
    "%config InlineBackend.figure_format = 'retina'"
   ]
  },
  {
   "cell_type": "code",
   "execution_count": null,
   "metadata": {},
   "outputs": [],
   "source": [
    "import os\n",
    "base_path = os.path.abspath('')"
   ]
  },
  {
   "cell_type": "code",
   "execution_count": null,
   "metadata": {
    "colab": {
     "base_uri": "https://localhost:8080/",
     "height": 34
    },
    "colab_type": "code",
    "executionInfo": {
     "elapsed": 47777,
     "status": "ok",
     "timestamp": 1588156962059,
     "user": {
      "displayName": "Дмитрий Владимирович Нечаев",
      "photoUrl": "https://lh3.googleusercontent.com/a-/AOh14Ggb7dibpC8T1aWKJ7ma1FFTxgmAqiAObCj0JYgG=s64",
      "userId": "17987950995446608245"
     },
     "user_tz": -180
    },
    "id": "zKH5kXwiGD07",
    "outputId": "37ef55b1-3f86-4c74-abd6-c96d828d90dd"
   },
   "outputs": [],
   "source": [
    "img2 = envi.open(base_path + '/Data/F15_20160101_20161231.v4.stable_lights.avg_vis.hdr', base_path + '/Data/F15_20160101_20161231.v4.stable_lights.avg_vis')\n",
    "img_old = img2.load()\n",
    "img_old = img_old.reshape(16801, 43201)\n",
    "np.around(img_old, 0, out=img_old)\n",
    "np.max(img_old)"
   ]
  },
  {
   "cell_type": "code",
   "execution_count": null,
   "metadata": {
    "colab": {
     "base_uri": "https://localhost:8080/",
     "height": 762
    },
    "colab_type": "code",
    "executionInfo": {
     "elapsed": 48577,
     "status": "ok",
     "timestamp": 1588156962873,
     "user": {
      "displayName": "Дмитрий Владимирович Нечаев",
      "photoUrl": "https://lh3.googleusercontent.com/a-/AOh14Ggb7dibpC8T1aWKJ7ma1FFTxgmAqiAObCj0JYgG=s64",
      "userId": "17987950995446608245"
     },
     "user_tz": -180
    },
    "id": "KeEVCxN7eVjK",
    "outputId": "173481b2-5077-45dd-dae7-cf5433741c4c"
   },
   "outputs": [],
   "source": [
    "import pandas as pd\n",
    "\n",
    "# ['model_05','model_06','model_07','model_08', 'model_09', 'model_10', 'model_11', 'model_12', 'model_13', 'model_14', 'model_15', 'model_16', \n",
    "#                                                             'model_17','model_18', 'model_19', 'model_20', 'model_21', 'model_22', 'model_23']\n",
    "# these are all possible models (in my case) \n",
    "\n",
    "models_to_estimate = ['model_18', 'model_19', 'model_20', 'model_21', 'model_22', 'model_23']\n",
    "\n",
    "df_coords =  pd.read_pickle(base_path + '/Data/spots_of_interest.pkl')\n",
    "indexies = ['MAE_all map', 'MSE_all map','L_infinity_norm_all map']\n",
    "for i in df_coords.columns:\n",
    "  indexies.append('MAE_{}'.format(i))\n",
    "  indexies.append('MSE_{}'.format(i))\n",
    "  indexies.append('R2_{}'.format(i))\n",
    "  indexies.append('L_infinity_norm_{}'.format(i))\n",
    "df_accuracy = pd.DataFrame(np.nan, index=indexies, columns=models_to_estimate)\n",
    "df_accuracy"
   ]
  },
  {
   "cell_type": "code",
   "execution_count": null,
   "metadata": {
    "colab": {
     "base_uri": "https://localhost:8080/",
     "height": 111
    },
    "colab_type": "code",
    "executionInfo": {
     "elapsed": 48562,
     "status": "ok",
     "timestamp": 1588156962874,
     "user": {
      "displayName": "Дмитрий Владимирович Нечаев",
      "photoUrl": "https://lh3.googleusercontent.com/a-/AOh14Ggb7dibpC8T1aWKJ7ma1FFTxgmAqiAObCj0JYgG=s64",
      "userId": "17987950995446608245"
     },
     "user_tz": -180
    },
    "id": "1aNpzQ3vq_Ar",
    "outputId": "18f3b8e3-92c2-41bf-d651-3eda53b8fff7"
   },
   "outputs": [],
   "source": [
    "df_coords"
   ]
  },
  {
   "cell_type": "code",
   "execution_count": null,
   "metadata": {
    "colab": {
     "base_uri": "https://localhost:8080/",
     "height": 864
    },
    "colab_type": "code",
    "executionInfo": {
     "elapsed": 337404,
     "status": "ok",
     "timestamp": 1588157251733,
     "user": {
      "displayName": "Дмитрий Владимирович Нечаев",
      "photoUrl": "https://lh3.googleusercontent.com/a-/AOh14Ggb7dibpC8T1aWKJ7ma1FFTxgmAqiAObCj0JYgG=s64",
      "userId": "17987950995446608245"
     },
     "user_tz": -180
    },
    "id": "goacsPDrF86t",
    "outputId": "46b28af7-7dae-44d8-94f2-fbe5149963e5"
   },
   "outputs": [],
   "source": [
    "from sklearn.metrics import r2_score, mean_absolute_error, mean_squared_error, max_error\n",
    "\n",
    "\n",
    "for model in models_to_estimate:\n",
    "  model_number = int(model[-2:])\n",
    "  prediction = np.load(base_path + '/Predictions/pred{}.npz'.format(model_number))['arr_0']\n",
    "  df_accuracy.iloc[0].loc[model], df_accuracy.iloc[1].loc[model] = mean_absolute_error(img_old, prediction), mean_squared_error(img_old, prediction)\n",
    "  df_accuracy.iloc[2].loc[model] = max_error(img_old.reshape(-1), prediction.reshape(-1))\n",
    "  print(model_number - int(models_to_estimate[0][-2:]) + 1, '/', len(models_to_estimate), 'started')\n",
    "  for j in range(1,6):\n",
    "    y = df_coords.iloc[0,j-1]\n",
    "    x = df_coords.iloc[1,j-1]\n",
    "    df_accuracy.iloc[j*4-1].loc[model], df_accuracy.iloc[j*4].loc[model], df_accuracy.iloc[j*4+1].loc[model] = mean_absolute_error(img_old[y-210:y, x-300:x], prediction[y-210:y, x-300:x]), mean_squared_error(img_old[y-210:y, x-300:x], prediction[y-210:y, x-300:x]), r2_score(img_old[y-210:y, x-300:x], prediction[y-210:y, x-300:x])\n",
    "    df_accuracy.iloc[j*4+2].loc[model] = max_error(img_old[y-210:y, x-300:x].reshape(-1), prediction[y-210:y, x-300:x].reshape(-1))\n",
    "\n",
    "df_accuracy"
   ]
  },
  {
   "cell_type": "code",
   "execution_count": null,
   "metadata": {
    "colab": {},
    "colab_type": "code",
    "id": "YRSnwMKctqsV"
   },
   "outputs": [],
   "source": [
    "prediction = np.load(base_path + '/Predictions/pred{}.npz'.format(22))['arr_0']"
   ]
  },
  {
   "cell_type": "code",
   "execution_count": null,
   "metadata": {
    "colab": {},
    "colab_type": "code",
    "id": "ks-fZqrEoZXM"
   },
   "outputs": [],
   "source": [
    "from skimage.io import imsave\n",
    "from skimage.io import call_plugin, use_plugin, find_available_plugins\n",
    "use_plugin('imageio')"
   ]
  },
  {
   "cell_type": "code",
   "execution_count": null,
   "metadata": {
    "colab": {
     "base_uri": "https://localhost:8080/",
     "height": 638
    },
    "colab_type": "code",
    "executionInfo": {
     "elapsed": 385144,
     "status": "ok",
     "timestamp": 1588157299490,
     "user": {
      "displayName": "Дмитрий Владимирович Нечаев",
      "photoUrl": "https://lh3.googleusercontent.com/a-/AOh14Ggb7dibpC8T1aWKJ7ma1FFTxgmAqiAObCj0JYgG=s64",
      "userId": "17987950995446608245"
     },
     "user_tz": -180
    },
    "id": "wclfg8RMqjo1",
    "outputId": "f107aeee-72a9-45b2-a98b-189d242b4262"
   },
   "outputs": [],
   "source": [
    "y = df_coords.iloc[0,3]\n",
    "x = df_coords.iloc[1,3]\n",
    "imshow(img_old[y-210:y, x-300:x])\n",
    "imshow(prediction[y-210:y, x-300:x])"
   ]
  },
  {
   "cell_type": "code",
   "execution_count": null,
   "metadata": {
    "colab": {
     "base_uri": "https://localhost:8080/",
     "height": 51
    },
    "colab_type": "code",
    "executionInfo": {
     "elapsed": 706,
     "status": "ok",
     "timestamp": 1588157335178,
     "user": {
      "displayName": "Дмитрий Владимирович Нечаев",
      "photoUrl": "https://lh3.googleusercontent.com/a-/AOh14Ggb7dibpC8T1aWKJ7ma1FFTxgmAqiAObCj0JYgG=s64",
      "userId": "17987950995446608245"
     },
     "user_tz": -180
    },
    "id": "nWI2UAQIu-sE",
    "outputId": "a6477711-6085-457a-e88c-32b07d28530e"
   },
   "outputs": [],
   "source": [
    "import seaborn as sns"
   ]
  },
  {
   "cell_type": "code",
   "execution_count": null,
   "metadata": {
    "colab": {
     "base_uri": "https://localhost:8080/",
     "height": 1000,
     "output_embedded_package_id": "1IMPBdyAYXCDcYTBCkAxWbdkU5Fa1Xb_A"
    },
    "colab_type": "code",
    "executionInfo": {
     "elapsed": 295630,
     "status": "ok",
     "timestamp": 1588157630134,
     "user": {
      "displayName": "Дмитрий Владимирович Нечаев",
      "photoUrl": "https://lh3.googleusercontent.com/a-/AOh14Ggb7dibpC8T1aWKJ7ma1FFTxgmAqiAObCj0JYgG=s64",
      "userId": "17987950995446608245"
     },
     "user_tz": -180
    },
    "id": "k3axok8ts8Xv",
    "outputId": "6e31f1f3-0d8e-4984-ecd0-d4cfbdd50862"
   },
   "outputs": [],
   "source": [
    "sns.set_style(\"whitegrid\")\n",
    "for model in models_to_estimate:\n",
    "  model_number = int(model[-2:])\n",
    "  prediction = np.load(base_path + '/Predictions/pred{}.npz'.format(model_number))['arr_0']\n",
    "  for j in range(1, 6):\n",
    "    y = df_coords.iloc[0,j-1]\n",
    "    x = df_coords.iloc[1,j-1]\n",
    "    spot_name = df_coords.columns[j-1]\n",
    "    imsave(base_path + '/Predictions/preds_for_spots/{}_{}.jpg'.format(spot_name, model_number), prediction[y-210:y, x-300:x], quality=75)\n",
    "\n",
    "    orig = img_old[y-210:y, x-300:x].reshape(-1, 1)\n",
    "    pred = prediction[y-210:y, x-300:x].reshape(-1, 1)\n",
    "    data = pd.DataFrame(data=np.concatenate((orig, pred), axis=1), columns=['Original', 'Predicted'])\n",
    "    data = data.groupby(by=['Original', 'Predicted'])['Predicted'].count().reset_index(name='Count')\n",
    "    data['Sum'] = data.groupby('Original')['Count'].transform('sum')\n",
    "    data['Fraction'] = data.Count / data.Sum\n",
    "\n",
    "    x_bins = np.linspace(0,63,64)\n",
    "    y_bins = np.linspace(0,63,64)\n",
    "    f, ax = plt.subplots(figsize=(8, 8))\n",
    "    sns.despine(f)\n",
    "    cmp = sns.cubehelix_palette(rot=0.8, start=0, as_cmap=True)\n",
    "    sns_plot = sns.scatterplot(x='Original', y='Predicted', data=data, hue='Fraction',hue_norm=(0,1), size='Count', x_bins=x_bins, y_bins=y_bins, ax=ax, palette=cmp)\n",
    "    figure = sns_plot.get_figure()\n",
    "    figure.savefig(base_path + '/Predictions/preds_for_spots/{}_{}_plot.jpg'.format(spot_name, model_number))"
   ]
  },
  {
   "cell_type": "code",
   "execution_count": null,
   "metadata": {
    "colab": {
     "base_uri": "https://localhost:8080/",
     "height": 34
    },
    "colab_type": "code",
    "executionInfo": {
     "elapsed": 295610,
     "status": "ok",
     "timestamp": 1588157630137,
     "user": {
      "displayName": "Дмитрий Владимирович Нечаев",
      "photoUrl": "https://lh3.googleusercontent.com/a-/AOh14Ggb7dibpC8T1aWKJ7ma1FFTxgmAqiAObCj0JYgG=s64",
      "userId": "17987950995446608245"
     },
     "user_tz": -180
    },
    "id": "Hp6UE-YduEk1",
    "outputId": "ca92e784-6497-4fbf-8587-bd1ef1de1ec4"
   },
   "outputs": [],
   "source": [
    "np.max(prediction[y-110:y-60, x-175:x-125])"
   ]
  },
  {
   "cell_type": "code",
   "execution_count": null,
   "metadata": {
    "colab": {},
    "colab_type": "code",
    "id": "OEoDbnu6z2hF"
   },
   "outputs": [],
   "source": [
    "# for j in range(1, 6):\n",
    "#     y = df_coords.iloc[0,j-1]\n",
    "#     x = df_coords.iloc[1,j-1]\n",
    "#     spot_name = df_coords.columns[j-1]\n",
    "#     #imshow(img_old[y-210:y, x-300:x])\n",
    "#     #imshow(prediction[y-210:y, x-300:x])\n",
    "#     imsave('/content/drive/My Drive/Diploma/Predictions/preds_for_spots/{}_{}.jpg'.format(spot_name, 'ground_truth'), img_old[y-210:y, x-300:x], quality=75)"
   ]
  },
  {
   "cell_type": "code",
   "execution_count": null,
   "metadata": {
    "colab": {
     "base_uri": "https://localhost:8080/",
     "height": 221
    },
    "colab_type": "code",
    "executionInfo": {
     "elapsed": 301364,
     "status": "ok",
     "timestamp": 1588157635942,
     "user": {
      "displayName": "Дмитрий Владимирович Нечаев",
      "photoUrl": "https://lh3.googleusercontent.com/a-/AOh14Ggb7dibpC8T1aWKJ7ma1FFTxgmAqiAObCj0JYgG=s64",
      "userId": "17987950995446608245"
     },
     "user_tz": -180
    },
    "id": "ii4KHt5UM1jR",
    "outputId": "9172edd5-5a22-458d-b8b7-9c98dd92a9a5"
   },
   "outputs": [],
   "source": [
    "y = df_coords.iloc[0,2]\n",
    "x = df_coords.iloc[1,2]\n",
    "from sys import getsizeof\n",
    "orig = img_old[y-210:y, x-300:x].reshape(-1, 1)\n",
    "pred = prediction[y-210:y, x-300:x].reshape(-1, 1)\n",
    "print(getsizeof(orig) / (1024 * 1024))\n",
    "# orig = orig[orig != 0]\n",
    "# pred = pred[pred != 0]\n",
    "# print(getsizeof(orig) / (1024 * 1024))\n",
    "\n",
    "# img_old = None\n",
    "# prediction = None\n",
    "data = pd.DataFrame(data=np.concatenate((orig, pred), axis=1), columns=['Original', 'Predicted'])\n",
    "#data = data.loc[(data.Original != 0) & (data.Predicted != 0)]\n",
    "data = data.groupby(by=['Original', 'Predicted'])['Predicted'].count().reset_index(name='Count')\n",
    "data['Sum'] = data.groupby('Original')['Count'].transform('sum')\n",
    "data['Fraction'] = data.Count / data.Sum\n",
    "data.head()"
   ]
  },
  {
   "cell_type": "code",
   "execution_count": null,
   "metadata": {
    "colab": {
     "base_uri": "https://localhost:8080/",
     "height": 496
    },
    "colab_type": "code",
    "executionInfo": {
     "elapsed": 302106,
     "status": "ok",
     "timestamp": 1588157636698,
     "user": {
      "displayName": "Дмитрий Владимирович Нечаев",
      "photoUrl": "https://lh3.googleusercontent.com/a-/AOh14Ggb7dibpC8T1aWKJ7ma1FFTxgmAqiAObCj0JYgG=s64",
      "userId": "17987950995446608245"
     },
     "user_tz": -180
    },
    "id": "ILcD2RVOQfM_",
    "outputId": "0d3fcdda-d724-4543-d2a9-91889755f062"
   },
   "outputs": [],
   "source": [
    "x_bins = np.linspace(0,63,64)\n",
    "y_bins = np.linspace(0,63,64)\n",
    "f, ax = plt.subplots(figsize=(8, 8))\n",
    "sns.despine(f)\n",
    "cmp = sns.cubehelix_palette(rot=0.8, start=0, as_cmap=True)\n",
    "sns_plot = sns.scatterplot(x='Original', y='Predicted', data=data, hue='Fraction',hue_norm=(0,1), x_bins=x_bins, y_bins=y_bins, ax=ax, palette=cmp, marker='s')\n",
    "# figure = sns_plot.get_figure()\n",
    "# figure.savefig('output.png')\n",
    "# sns.regplot(x='Original', y='Predicted', data=data, ax=ax, marker='s')"
   ]
  },
  {
   "cell_type": "code",
   "execution_count": null,
   "metadata": {
    "colab": {
     "base_uri": "https://localhost:8080/",
     "height": 364
    },
    "colab_type": "code",
    "executionInfo": {
     "elapsed": 311394,
     "status": "ok",
     "timestamp": 1588157645999,
     "user": {
      "displayName": "Дмитрий Владимирович Нечаев",
      "photoUrl": "https://lh3.googleusercontent.com/a-/AOh14Ggb7dibpC8T1aWKJ7ma1FFTxgmAqiAObCj0JYgG=s64",
      "userId": "17987950995446608245"
     },
     "user_tz": -180
    },
    "id": "oY3IyIrnjTel",
    "outputId": "20db0292-8eaf-49a6-8dd9-d87102e888a0"
   },
   "outputs": [],
   "source": [
    "import seaborn as sns; sns.set(color_codes=True)\n",
    "tips = sns.load_dataset(\"tips\") sns.lmplot(x=\"total_bill\", y=\"tip\", data=tips)"
   ]
  }
 ],
 "metadata": {
  "colab": {
   "authorship_tag": "ABX9TyMxlpGba0N4WWLeJKhfXxmQ",
   "collapsed_sections": [],
   "machine_shape": "hm",
   "mount_file_id": "11F8oQDkIzFdokxKOtZQk6-s82avnAD6I",
   "name": "accuracy_estimation.ipynb",
   "provenance": []
  },
  "kernelspec": {
   "display_name": "Python 3",
   "language": "python",
   "name": "python3"
  },
  "language_info": {
   "codemirror_mode": {
    "name": "ipython",
    "version": 3
   },
   "file_extension": ".py",
   "mimetype": "text/x-python",
   "name": "python",
   "nbconvert_exporter": "python",
   "pygments_lexer": "ipython3",
   "version": "3.7.7"
  }
 },
 "nbformat": 4,
 "nbformat_minor": 1
}