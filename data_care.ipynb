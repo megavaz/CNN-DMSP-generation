{
 "cells": [
  {
   "cell_type": "code",
   "execution_count": null,
   "metadata": {
    "colab": {
     "base_uri": "https://localhost:8080/",
     "height": 544
    },
    "colab_type": "code",
    "id": "tMQm99Mnuxod",
    "outputId": "94e833df-563a-47e5-f1bf-f0564b802c1b"
   },
   "outputs": [],
   "source": [
    "!pip install csbdeep\n",
    "!pip install spectral"
   ]
  },
  {
   "cell_type": "code",
   "execution_count": null,
   "metadata": {
    "colab": {},
    "colab_type": "code",
    "id": "U5wIsRNQu1Qp"
   },
   "outputs": [],
   "source": [
    "import spectral.io.envi as envi\n",
    "from spectral import *\n",
    "import numpy as np"
   ]
  },
  {
   "cell_type": "code",
   "execution_count": null,
   "metadata": {},
   "outputs": [],
   "source": [
    "import os\n",
    "base_path = os.path.abspath('')"
   ]
  },
  {
   "cell_type": "code",
   "execution_count": null,
   "metadata": {
    "colab": {
     "base_uri": "https://localhost:8080/",
     "height": 323
    },
    "colab_type": "code",
    "id": "VpI3RV2Yz4Iz",
    "outputId": "b8ea3c1f-9539-44eb-84c1-6d7565499265"
   },
   "outputs": [],
   "source": [
    "img2 = envi.open(base_path + '/Data/F15_20160101_20161231.v4.stable_lights.avg_vis.hdr', base_path + '/Data/F15_20160101_20161231.v4.stable_lights.avg_vis')\n",
    "img1 = envi.open(base_path + '/Data/SVDNB_npp_20160101-20161231_global_vcm-ntl.avg_rade9_resampled.hdr', base_path + '/Data/SVDNB_npp_20160101-20161231_global_vcm-ntl.avg_rade9_resampled')"
   ]
  },
  {
   "cell_type": "code",
   "execution_count": null,
   "metadata": {
    "colab": {
     "base_uri": "https://localhost:8080/",
     "height": 34
    },
    "colab_type": "code",
    "id": "uiyi4ePJFIGn",
    "outputId": "d17e82b8-4002-41c4-d299-e58b745fccb3"
   },
   "outputs": [],
   "source": [
    "#custom function to acquire approximate position of needed point of interest\n",
    "def get_coordinates(lat, lon):\n",
    "  lat = -lat + 90\n",
    "  lon += 180\n",
    "  lat_conv = 4800 / (-36.1146 + 90)\n",
    "  lon_conv = 8000 / (180 - 115.1728)\n",
    "  return int(lat * lat_conv), int(lon * lon_conv)\n",
    "\n",
    "get_coordinates(55.7512, 37.6184)"
   ]
  },
  {
   "cell_type": "code",
   "execution_count": null,
   "metadata": {
    "colab": {
     "base_uri": "https://localhost:8080/",
     "height": 388
    },
    "colab_type": "code",
    "id": "oKyx1SHyiadQ",
    "outputId": "75f029a0-967a-43ea-8f0d-b7536f876178"
   },
   "outputs": [],
   "source": [
    "i, j = 2410, 26256\n",
    "#imshow(img1[i-200:i, j-300: j])\n",
    "imshow(img2[i-210:i, j-300: j])"
   ]
  },
  {
   "cell_type": "markdown",
   "metadata": {
    "colab_type": "text",
    "id": "2iYLoiH6SKx7"
   },
   "source": [
    "Next part of the code was used to create a dictionary with positions of points of interest "
   ]
  },
  {
   "cell_type": "code",
   "execution_count": null,
   "metadata": {
    "colab": {},
    "colab_type": "code",
    "id": "VJKc5f4hD08R"
   },
   "outputs": [],
   "source": [
    "# cities_for_test_coords = {'Las Vegas':[4800,8000], 'Los Angeles':get_coordinates(34.0522, -118.2436), \n",
    "#                           'Guangzhou + Hong Kong':[6380, 35402], 'Moscow':[2410, 26256], 'Brightest spot': [7942, 14065]}\n",
    "\n",
    "# import pandas as pd\n",
    "\n",
    "# df = pd.DataFrame(cities_for_test_coords, index=['Y', 'X'])\n",
    "# df.to_pickle(\"/content/drive/My Drive/Diploma/spots_of_interest.pkl\")"
   ]
  },
  {
   "cell_type": "code",
   "execution_count": null,
   "metadata": {
    "colab": {
     "base_uri": "https://localhost:8080/",
     "height": 34
    },
    "colab_type": "code",
    "id": "uyxNpVrpIFq8",
    "outputId": "2281cf74-6fde-4e7c-f158-7600b946fc9f"
   },
   "outputs": [],
   "source": [
    "#img_new = img1.load()\n",
    "img_old = img2.load()\n",
    "print(img_new.shape, img_old.shape)"
   ]
  },
  {
   "cell_type": "code",
   "execution_count": null,
   "metadata": {
    "colab": {},
    "colab_type": "code",
    "id": "gNcMULjeLK7j"
   },
   "outputs": [],
   "source": [
    "from __future__ import print_function, unicode_literals, absolute_import, division\n",
    "import matplotlib.pyplot as plt\n",
    "%matplotlib inline\n",
    "%config InlineBackend.figure_format = 'retina'\n",
    "\n",
    "from tifffile import imread\n",
    "from csbdeep.utils import plot_some\n",
    "from csbdeep.io import load_training_data\n",
    "from csbdeep.data import RawData, create_patches, no_background_patches"
   ]
  },
  {
   "cell_type": "code",
   "execution_count": null,
   "metadata": {
    "colab": {
     "base_uri": "https://localhost:8080/",
     "height": 34
    },
    "colab_type": "code",
    "id": "8Z7ZA0pUBsOl",
    "outputId": "67f70430-530e-454f-8e91-c66699eec80a"
   },
   "outputs": [],
   "source": [
    "clip = 2000\n",
    "\n",
    "img_new = img_new.reshape(1,16801,43201)\n",
    "img_old = img_old.reshape(1,16801,43201)\n",
    "img_new = np.clip(img_new, 0, clip)\n",
    "#img_old = img_old * 5\n",
    "print(np.max(img_new), np.max(img_old))"
   ]
  },
  {
   "cell_type": "code",
   "execution_count": null,
   "metadata": {
    "colab": {
     "base_uri": "https://localhost:8080/",
     "height": 34
    },
    "colab_type": "code",
    "id": "4xDygWSWb5iG",
    "outputId": "36f1182e-f3dc-44b3-8c28-491e0c8f8821"
   },
   "outputs": [],
   "source": [
    "#split images into two parts\n",
    "img_cut_new = img_new[:,:-1,:-1]\n",
    "img_cut_old = img_old[:,:-1,:-1]\n",
    "img_new_west, img_new_east, img_old_west, img_old_east = img_cut_new[:,:,:21600], img_cut_new[:,:,21600:], img_cut_old[:,:,:21600], img_cut_old[:,:,21600:]\n",
    "img_new_east.shape"
   ]
  },
  {
   "cell_type": "code",
   "execution_count": null,
   "metadata": {
    "colab": {
     "base_uri": "https://localhost:8080/",
     "height": 34
    },
    "colab_type": "code",
    "id": "7V0DrUKV545W",
    "outputId": "711e6354-dfab-4690-f096-10cc42b67e88"
   },
   "outputs": [],
   "source": [
    "raw_data_w = RawData.from_arrays(img_new_west, img_old_west, axes='CYX')\n",
    "raw_data_e = RawData.from_arrays(img_new_east, img_old_east, axes='CYX')\n",
    "print(raw_data_w)"
   ]
  },
  {
   "cell_type": "code",
   "execution_count": null,
   "metadata": {
    "colab": {},
    "colab_type": "code",
    "id": "CzUKuq7pdmBE"
   },
   "outputs": [],
   "source": [
    "filter_img = no_background_patches(threshold=0.4, percentile=99.9)"
   ]
  },
  {
   "cell_type": "code",
   "execution_count": null,
   "metadata": {
    "colab": {
     "base_uri": "https://localhost:8080/",
     "height": 527
    },
    "colab_type": "code",
    "id": "XrKxJjvj7Fqr",
    "outputId": "0bc51518-c33d-405e-e9d3-25cecb27c3d3"
   },
   "outputs": [],
   "source": [
    "X, Y, axes = create_patches(raw_data_w, (64,64), 500, save_file=base_path + '/patches/my_training_data_west_64_2000_max.npz', patch_filter=filter_img, normalization=None)\n",
    "X_val, Y_val, axes_val = create_patches(raw_data_e, (64,64), 20000, save_file=base_path + '/patches/my_training_data_east_64_2000_max.npz', patch_filter=filter_img, normalization=None)"
   ]
  },
  {
   "cell_type": "code",
   "execution_count": null,
   "metadata": {
    "colab": {},
    "colab_type": "code",
    "id": "roxAm1T4Gy2a"
   },
   "outputs": [],
   "source": [
    "#(X,Y), (X_val,Y_val), axes = load_training_data('/content/drive/My Drive/Diploma/patches/my_training_data_east_256_2000_max.npz', validation_split=0.5)"
   ]
  },
  {
   "cell_type": "code",
   "execution_count": null,
   "metadata": {
    "colab": {
     "base_uri": "https://localhost:8080/",
     "height": 312
    },
    "colab_type": "code",
    "id": "xzYGix2XHeRs",
    "outputId": "234886e6-0c87-4515-dcb8-96bf478fbb73"
   },
   "outputs": [],
   "source": [
    "plt.figure(figsize=(12,5))\n",
    "plot_some(X_val[0:5],Y_val[0:5], pmax=99.9)\n",
    "X_val.shape[0]"
   ]
  },
  {
   "cell_type": "code",
   "execution_count": null,
   "metadata": {
    "colab": {
     "base_uri": "https://localhost:8080/",
     "height": 34
    },
    "colab_type": "code",
    "id": "lnBJ37AKG9CU",
    "outputId": "7114eb81-af75-4179-8615-6f235a0bca80"
   },
   "outputs": [],
   "source": [
    "print(np.max(X_val), np.max(Y_val))"
   ]
  }
 ],
 "metadata": {
  "colab": {
   "machine_shape": "hm",
   "name": "data_care.ipynb",
   "provenance": []
  },
  "kernelspec": {
   "display_name": "Python 3",
   "language": "python",
   "name": "python3"
  },
  "language_info": {
   "codemirror_mode": {
    "name": "ipython",
    "version": 3
   },
   "file_extension": ".py",
   "mimetype": "text/x-python",
   "name": "python",
   "nbconvert_exporter": "python",
   "pygments_lexer": "ipython3",
   "version": "3.7.7"
  }
 },
 "nbformat": 4,
 "nbformat_minor": 1
}